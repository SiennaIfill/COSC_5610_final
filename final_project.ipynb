{
 "cells": [
  {
   "cell_type": "code",
   "execution_count": 44,
   "metadata": {},
   "outputs": [
    {
     "name": "stdout",
     "output_type": "stream",
     "text": [
      "Index(['Unnamed: 0', 'Unnamed: 1', 'Unnamed: 2', 'Unnamed: 3', 'Unnamed: 4',\n",
      "       'Unnamed: 5', 'Unnamed: 6', 'School', 'School.1', 'School.2',\n",
      "       'School.3', 'School.4', 'School.5', 'School.6', 'School.7', 'School.8',\n",
      "       'School.9', 'School.10', 'School.11', 'School.12', 'School.13',\n",
      "       'School.14', 'School.15', 'Unnamed: 23', 'Opponent', 'Opponent.1',\n",
      "       'Opponent.2', 'Opponent.3', 'Opponent.4', 'Opponent.5', 'Opponent.6',\n",
      "       'Opponent.7', 'Opponent.8', 'Opponent.9', 'Opponent.10', 'Opponent.11',\n",
      "       'Opponent.12', 'Opponent.13', 'Opponent.14', 'Opponent.15'],\n",
      "      dtype='object')\n",
      "Index(['GameID', 'Date', 'Opp', 'W/L', 'Points Scored', 'Opp Points', 'MU_FGM',\n",
      "       'MU_FGA', 'MU_FG_PCT', 'MU_3PM', 'MU_3PA', 'MU_3PCT', 'MU_FTM',\n",
      "       'MU_FTA', 'MU_FT_PCT', 'MU_OFF_RB', 'MU_TRB', 'MU_AST', 'MU_STL',\n",
      "       'MU_BLK', 'MU_TOV', 'MU_PF', 'Opp_FGM', 'Opp_FGA', 'Opp_FG_PCT',\n",
      "       'Opp_3PM', 'Opp_3PA', 'Opp_3PCT', 'Opp_FTM', 'Opp_FTA', 'Opp_FT_PCT',\n",
      "       'Opp_OFF_RB', 'Opp_TRB', 'Opp_AST', 'Opp_STL', 'Opp_BLK', 'Opp_TOV',\n",
      "       'Opp_PF'],\n",
      "      dtype='object')\n"
     ]
    },
    {
     "data": {
      "text/html": [
       "<div>\n",
       "<style scoped>\n",
       "    .dataframe tbody tr th:only-of-type {\n",
       "        vertical-align: middle;\n",
       "    }\n",
       "\n",
       "    .dataframe tbody tr th {\n",
       "        vertical-align: top;\n",
       "    }\n",
       "\n",
       "    .dataframe thead th {\n",
       "        text-align: right;\n",
       "    }\n",
       "</style>\n",
       "<table border=\"1\" class=\"dataframe\">\n",
       "  <thead>\n",
       "    <tr style=\"text-align: right;\">\n",
       "      <th></th>\n",
       "      <th>GameID</th>\n",
       "      <th>Date</th>\n",
       "      <th>Opp</th>\n",
       "      <th>W/L</th>\n",
       "      <th>Points Scored</th>\n",
       "      <th>Opp Points</th>\n",
       "      <th>MU_FGM</th>\n",
       "      <th>MU_FGA</th>\n",
       "      <th>MU_FG_PCT</th>\n",
       "      <th>MU_3PM</th>\n",
       "      <th>...</th>\n",
       "      <th>Opp_FTM</th>\n",
       "      <th>Opp_FTA</th>\n",
       "      <th>Opp_FT_PCT</th>\n",
       "      <th>Opp_OFF_RB</th>\n",
       "      <th>Opp_TRB</th>\n",
       "      <th>Opp_AST</th>\n",
       "      <th>Opp_STL</th>\n",
       "      <th>Opp_BLK</th>\n",
       "      <th>Opp_TOV</th>\n",
       "      <th>Opp_PF</th>\n",
       "    </tr>\n",
       "  </thead>\n",
       "  <tbody>\n",
       "    <tr>\n",
       "      <th>1</th>\n",
       "      <td>1</td>\n",
       "      <td>2023-11-06</td>\n",
       "      <td>Northern Illinois</td>\n",
       "      <td>W</td>\n",
       "      <td>92</td>\n",
       "      <td>70</td>\n",
       "      <td>35</td>\n",
       "      <td>67</td>\n",
       "      <td>.522</td>\n",
       "      <td>9</td>\n",
       "      <td>...</td>\n",
       "      <td>11</td>\n",
       "      <td>16</td>\n",
       "      <td>.688</td>\n",
       "      <td>16</td>\n",
       "      <td>38</td>\n",
       "      <td>10</td>\n",
       "      <td>6</td>\n",
       "      <td>4</td>\n",
       "      <td>14</td>\n",
       "      <td>13</td>\n",
       "    </tr>\n",
       "    <tr>\n",
       "      <th>2</th>\n",
       "      <td>2</td>\n",
       "      <td>2023-11-10</td>\n",
       "      <td>Rider</td>\n",
       "      <td>W</td>\n",
       "      <td>95</td>\n",
       "      <td>65</td>\n",
       "      <td>34</td>\n",
       "      <td>62</td>\n",
       "      <td>.548</td>\n",
       "      <td>13</td>\n",
       "      <td>...</td>\n",
       "      <td>8</td>\n",
       "      <td>15</td>\n",
       "      <td>.533</td>\n",
       "      <td>13</td>\n",
       "      <td>36</td>\n",
       "      <td>14</td>\n",
       "      <td>6</td>\n",
       "      <td>1</td>\n",
       "      <td>16</td>\n",
       "      <td>17</td>\n",
       "    </tr>\n",
       "    <tr>\n",
       "      <th>3</th>\n",
       "      <td>3</td>\n",
       "      <td>2023-11-14</td>\n",
       "      <td>Illinois</td>\n",
       "      <td>W</td>\n",
       "      <td>71</td>\n",
       "      <td>64</td>\n",
       "      <td>27</td>\n",
       "      <td>62</td>\n",
       "      <td>.435</td>\n",
       "      <td>5</td>\n",
       "      <td>...</td>\n",
       "      <td>11</td>\n",
       "      <td>13</td>\n",
       "      <td>.846</td>\n",
       "      <td>11</td>\n",
       "      <td>37</td>\n",
       "      <td>8</td>\n",
       "      <td>6</td>\n",
       "      <td>7</td>\n",
       "      <td>15</td>\n",
       "      <td>15</td>\n",
       "    </tr>\n",
       "    <tr>\n",
       "      <th>4</th>\n",
       "      <td>4</td>\n",
       "      <td>2023-11-20</td>\n",
       "      <td>UCLA</td>\n",
       "      <td>W</td>\n",
       "      <td>71</td>\n",
       "      <td>69</td>\n",
       "      <td>25</td>\n",
       "      <td>55</td>\n",
       "      <td>.455</td>\n",
       "      <td>11</td>\n",
       "      <td>...</td>\n",
       "      <td>18</td>\n",
       "      <td>20</td>\n",
       "      <td>.900</td>\n",
       "      <td>4</td>\n",
       "      <td>27</td>\n",
       "      <td>10</td>\n",
       "      <td>5</td>\n",
       "      <td>3</td>\n",
       "      <td>12</td>\n",
       "      <td>19</td>\n",
       "    </tr>\n",
       "    <tr>\n",
       "      <th>5</th>\n",
       "      <td>5</td>\n",
       "      <td>2023-11-21</td>\n",
       "      <td>Kansas</td>\n",
       "      <td>W</td>\n",
       "      <td>73</td>\n",
       "      <td>59</td>\n",
       "      <td>29</td>\n",
       "      <td>64</td>\n",
       "      <td>.453</td>\n",
       "      <td>6</td>\n",
       "      <td>...</td>\n",
       "      <td>9</td>\n",
       "      <td>16</td>\n",
       "      <td>.563</td>\n",
       "      <td>7</td>\n",
       "      <td>29</td>\n",
       "      <td>17</td>\n",
       "      <td>7</td>\n",
       "      <td>2</td>\n",
       "      <td>18</td>\n",
       "      <td>12</td>\n",
       "    </tr>\n",
       "  </tbody>\n",
       "</table>\n",
       "<p>5 rows × 38 columns</p>\n",
       "</div>"
      ],
      "text/plain": [
       "  GameID        Date                Opp W/L Points Scored Opp Points MU_FGM  \\\n",
       "1      1  2023-11-06  Northern Illinois   W            92         70     35   \n",
       "2      2  2023-11-10              Rider   W            95         65     34   \n",
       "3      3  2023-11-14           Illinois   W            71         64     27   \n",
       "4      4  2023-11-20               UCLA   W            71         69     25   \n",
       "5      5  2023-11-21             Kansas   W            73         59     29   \n",
       "\n",
       "  MU_FGA MU_FG_PCT MU_3PM  ... Opp_FTM Opp_FTA Opp_FT_PCT Opp_OFF_RB Opp_TRB  \\\n",
       "1     67      .522      9  ...      11      16       .688         16      38   \n",
       "2     62      .548     13  ...       8      15       .533         13      36   \n",
       "3     62      .435      5  ...      11      13       .846         11      37   \n",
       "4     55      .455     11  ...      18      20       .900          4      27   \n",
       "5     64      .453      6  ...       9      16       .563          7      29   \n",
       "\n",
       "  Opp_AST Opp_STL Opp_BLK Opp_TOV Opp_PF  \n",
       "1      10       6       4      14     13  \n",
       "2      14       6       1      16     17  \n",
       "3       8       6       7      15     15  \n",
       "4      10       5       3      12     19  \n",
       "5      17       7       2      18     12  \n",
       "\n",
       "[5 rows x 38 columns]"
      ]
     },
     "execution_count": 44,
     "metadata": {},
     "output_type": "execute_result"
    }
   ],
   "source": [
    "# Import Necessary Libraries\n",
    "import pandas as pd\n",
    "import numpy as ny\n",
    "import statistics\n",
    "import matplotlib\n",
    "import matplotlib.pyplot as plt\n",
    "from scipy import stats\n",
    "\n",
    "# Load in Marquette Dataset-- G.L for Game Log\n",
    "gl = pd.read_csv('marquette.csv')\n",
    "gl.head()\n",
    "# clean dataset: don't need unnamed 2 column or unnamed 23 column (mostly or all NaN)\n",
    "print(gl.columns)\n",
    "gl = gl.drop(\"Unnamed: 2\", axis='columns')\n",
    "gl = gl.drop(\"Unnamed: 23\", axis='columns')\n",
    "gl.head()\n",
    "# change column names\n",
    "gl.rename(columns={'Unnamed: 0':'GameID','Unnamed: 1':'Date','Unnamed: 3':'Opp','Unnamed: 4':'W/L','Unnamed: 5':'Points Scored','Unnamed: 6':'Opp Points'},inplace=True)\n",
    "gl.rename(columns={'School':'MU_FGM','School.1':'MU_FGA','School.2':'MU_FG_PCT','School.3':'MU_3PM','School.4':'MU_3PA','School.5':'MU_3PCT','School.6':'MU_FTM','School.7':'MU_FTA','School.8':'MU_FT_PCT',\n",
    "                   'School.9':'MU_OFF_RB','School.10':'MU_TRB','School.11':'MU_AST','School.12':'MU_STL','School.13':'MU_BLK','School.14':'MU_TOV','School.15':'MU_PF'},inplace=True)\n",
    "gl.rename(columns={'Opponent':'Opp_FGM','Opponent.1':'Opp_FGA','Opponent.2':'Opp_FG_PCT','Opponent.3':'Opp_3PM','Opponent.4':'Opp_3PA','Opponent.5':'Opp_3PCT','Opponent.6':'Opp_FTM','Opponent.7':'Opp_FTA','Opponent.8':'Opp_FT_PCT',\n",
    "                   'Opponent.9':'Opp_OFF_RB','Opponent.10':'Opp_TRB','Opponent.11':'Opp_AST','Opponent.12':'Opp_STL','Opponent.13':'Opp_BLK','Opponent.14':'Opp_TOV','Opponent.15':'Opp_PF'},inplace=True)\n",
    "print(gl.columns)\n",
    "# delete top row\n",
    "gl = gl.iloc[1:]\n",
    "gl.head()\n",
    "\n"
   ]
  },
  {
   "cell_type": "code",
   "execution_count": 21,
   "metadata": {},
   "outputs": [
    {
     "name": "stdout",
     "output_type": "stream",
     "text": [
      "<class 'pandas.core.frame.DataFrame'>\n",
      "RangeIndex: 37 entries, 1 to 37\n",
      "Data columns (total 38 columns):\n",
      " #   Column         Non-Null Count  Dtype \n",
      "---  ------         --------------  ----- \n",
      " 0   GameID         37 non-null     object\n",
      " 1   Date           37 non-null     object\n",
      " 2   Opp            37 non-null     object\n",
      " 3   W/L            37 non-null     object\n",
      " 4   Points Scored  37 non-null     object\n",
      " 5   Opp Points     37 non-null     object\n",
      " 6   MU_FGM         37 non-null     object\n",
      " 7   MU_FGA         37 non-null     object\n",
      " 8   MU_FG_PCT      37 non-null     object\n",
      " 9   MU_3PM         37 non-null     object\n",
      " 10  MU_3PA         37 non-null     object\n",
      " 11  MU_3PCT        37 non-null     object\n",
      " 12  MU_FTM         37 non-null     object\n",
      " 13  MU_FTA         37 non-null     object\n",
      " 14  MU_FT_PCT      37 non-null     object\n",
      " 15  MU_OFF_RB      37 non-null     object\n",
      " 16  MU_TRB         37 non-null     object\n",
      " 17  MU_AST         37 non-null     object\n",
      " 18  MU_STL         37 non-null     object\n",
      " 19  MU_BLK         37 non-null     object\n",
      " 20  MU_TOV         37 non-null     object\n",
      " 21  MU_PF          37 non-null     object\n",
      " 22  Opp_FGM        37 non-null     object\n",
      " 23  Opp_FGA        37 non-null     object\n",
      " 24  Opp_FG_PCT     37 non-null     object\n",
      " 25  Opp_3PM        37 non-null     object\n",
      " 26  Opp_3PA        37 non-null     object\n",
      " 27  Opp_3PCT       37 non-null     object\n",
      " 28  Opp_FTM        37 non-null     object\n",
      " 29  Opp_FTA        37 non-null     object\n",
      " 30  Opp_FT_PCT     37 non-null     object\n",
      " 31  Opp_OFF_RB     37 non-null     object\n",
      " 32  Opp_TRB        37 non-null     object\n",
      " 33  Opp_AST        37 non-null     object\n",
      " 34  Opp_STL        37 non-null     object\n",
      " 35  Opp_BLK        37 non-null     object\n",
      " 36  Opp_TOV        37 non-null     object\n",
      " 37  Opp_PF         37 non-null     object\n",
      "dtypes: object(38)\n",
      "memory usage: 11.1+ KB\n"
     ]
    },
    {
     "data": {
      "text/plain": [
       "array(['W', 'L', 'W (1 OT)'], dtype=object)"
      ]
     },
     "execution_count": 21,
     "metadata": {},
     "output_type": "execute_result"
    }
   ],
   "source": [
    "# check for any remaining null values-- all good\n",
    "gl.info()\n",
    "gl.describe()\n",
    "gl.get('W/L').unique()\n"
   ]
  },
  {
   "cell_type": "code",
   "execution_count": 52,
   "metadata": {},
   "outputs": [
    {
     "name": "stdout",
     "output_type": "stream",
     "text": [
      "<class 'pandas.core.frame.DataFrame'>\n",
      "RangeIndex: 37 entries, 1 to 37\n",
      "Data columns (total 38 columns):\n",
      " #   Column         Non-Null Count  Dtype  \n",
      "---  ------         --------------  -----  \n",
      " 0   GameID         37 non-null     int64  \n",
      " 1   Date           37 non-null     object \n",
      " 2   Opp            37 non-null     object \n",
      " 3   W/L            37 non-null     object \n",
      " 4   Points Scored  37 non-null     int64  \n",
      " 5   Opp Points     37 non-null     int64  \n",
      " 6   MU_FGM         37 non-null     int64  \n",
      " 7   MU_FGA         37 non-null     int64  \n",
      " 8   MU_FG_PCT      37 non-null     float64\n",
      " 9   MU_3PM         37 non-null     int64  \n",
      " 10  MU_3PA         37 non-null     int64  \n",
      " 11  MU_3PCT        37 non-null     float64\n",
      " 12  MU_FTM         37 non-null     int64  \n",
      " 13  MU_FTA         37 non-null     int64  \n",
      " 14  MU_FT_PCT      37 non-null     float64\n",
      " 15  MU_OFF_RB      37 non-null     int64  \n",
      " 16  MU_TRB         37 non-null     int64  \n",
      " 17  MU_AST         37 non-null     int64  \n",
      " 18  MU_STL         37 non-null     int64  \n",
      " 19  MU_BLK         37 non-null     int64  \n",
      " 20  MU_TOV         37 non-null     int64  \n",
      " 21  MU_PF          37 non-null     int64  \n",
      " 22  Opp_FGM        37 non-null     int64  \n",
      " 23  Opp_FGA        37 non-null     int64  \n",
      " 24  Opp_FG_PCT     37 non-null     float64\n",
      " 25  Opp_3PM        37 non-null     int64  \n",
      " 26  Opp_3PA        37 non-null     int64  \n",
      " 27  Opp_3PCT       37 non-null     float64\n",
      " 28  Opp_FTM        37 non-null     int64  \n",
      " 29  Opp_FTA        37 non-null     int64  \n",
      " 30  Opp_FT_PCT     37 non-null     float64\n",
      " 31  Opp_OFF_RB     37 non-null     int64  \n",
      " 32  Opp_TRB        37 non-null     int64  \n",
      " 33  Opp_AST        37 non-null     int64  \n",
      " 34  Opp_STL        37 non-null     int64  \n",
      " 35  Opp_BLK        37 non-null     int64  \n",
      " 36  Opp_TOV        37 non-null     int64  \n",
      " 37  Opp_PF         37 non-null     int64  \n",
      "dtypes: float64(6), int64(29), object(3)\n",
      "memory usage: 11.1+ KB\n"
     ]
    }
   ],
   "source": [
    "# change all columns except date, opp, and w/l to numerics\n",
    "numerics = gl.columns.drop({'Date','Opp','W/L'})\n",
    "gl[numerics] = gl[numerics].apply(pd.to_numeric)\n",
    "gl.info()"
   ]
  },
  {
   "cell_type": "code",
   "execution_count": 53,
   "metadata": {},
   "outputs": [
    {
     "name": "stderr",
     "output_type": "stream",
     "text": [
      "/var/folders/f1/zmrfz5j54rd04d5dxc07w4_h0000gn/T/ipykernel_66944/4073218231.py:4: FutureWarning: Downcasting behavior in `replace` is deprecated and will be removed in a future version. To retain the old behavior, explicitly call `result.infer_objects(copy=False)`. To opt-in to the future behavior, set `pd.set_option('future.no_silent_downcasting', True)`\n",
      "  gl['W/L'] = gl.get('W/L').replace('W (1 OT)',0)\n"
     ]
    },
    {
     "data": {
      "text/plain": [
       "array([0, 1])"
      ]
     },
     "execution_count": 53,
     "metadata": {},
     "output_type": "execute_result"
    }
   ],
   "source": [
    "# replace W and L with 0 and 1\n",
    "gl['W/L'] = gl.get('W/L').replace('L',1)\n",
    "gl['W/L'] = gl.get('W/L').replace('W',0)\n",
    "gl['W/L'] = gl.get('W/L').replace('W (1 OT)',0)\n",
    "gl.get('W/L').unique()\n"
   ]
  },
  {
   "cell_type": "code",
   "execution_count": 54,
   "metadata": {},
   "outputs": [
    {
     "data": {
      "text/plain": [
       "<matplotlib.collections.PathCollection at 0x287b9c350>"
      ]
     },
     "execution_count": 54,
     "metadata": {},
     "output_type": "execute_result"
    },
    {
     "data": {
      "image/png": "[encoded data removed]",
      "text/plain": [
       "<Figure size 640x480 with 1 Axes>"
      ]
     },
     "metadata": {},
     "output_type": "display_data"
    }
   ],
   "source": [
    "# I want to examine visual representations of the data, marquette and opponents stats on different graphs\n",
    "# color code by marquette win or loss\n",
    "mu_wins = gl.where(gl['W/L']==0)\n",
    "mu_loss = gl.where(gl['W/L']==1)\n",
    "\n",
    "plt.scatter(x=mu_wins.get('MU_FG_PCT'),y=mu_wins.get(\"MU_3PCT\"),color='g')\n",
    "plt.scatter(x=mu_loss.get('MU_FG_PCT'),y=mu_loss.get(\"MU_3PCT\"),color='r')"
   ]
  },
  {
   "cell_type": "code",
   "execution_count": 55,
   "metadata": {},
   "outputs": [
    {
     "data": {
      "text/plain": [
       "<matplotlib.collections.PathCollection at 0x287c9b850>"
      ]
     },
     "execution_count": 55,
     "metadata": {},
     "output_type": "execute_result"
    },
    {
     "data": {
      "image/png": "[encoded data removed]",
      "text/plain": [
       "<Figure size 640x480 with 1 Axes>"
      ]
     },
     "metadata": {},
     "output_type": "display_data"
    }
   ],
   "source": [
    "plt.scatter(x=mu_wins.get('Opp_FG_PCT'),y=mu_wins.get(\"Opp_3PCT\"),color='g')\n",
    "plt.scatter(x=mu_loss.get('Opp_FG_PCT'),y=mu_loss.get(\"Opp_3PCT\"),color='r')"
   ]
  }
 ],
 "metadata": {
  "kernelspec": {
   "display_name": "Python 3",
   "language": "python",
   "name": "python3"
  },
  "language_info": {
   "codemirror_mode": {
    "name": "ipython",
    "version": 3
   },
   "file_extension": ".py",
   "mimetype": "text/x-python",
   "name": "python",
   "nbconvert_exporter": "python",
   "pygments_lexer": "ipython3",
   "version": "3.11.8"
  }
 },
 "nbformat": 4,
 "nbformat_minor": 2
}
